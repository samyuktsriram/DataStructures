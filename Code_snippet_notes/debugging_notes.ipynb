{
 "cells": [
  {
   "cell_type": "markdown",
   "metadata": {},
   "source": [
    "ALWAYS Do:\n",
    "\n",
    "#include<assert.h>\n",
    "\n",
    "assert is theoretically the invariant"
   ]
  },
  {
   "cell_type": "markdown",
   "metadata": {},
   "source": [
    "1. Know what your program is supposed to do\n",
    "2. Detect when it doesn't do what it is supposed to\n",
    "3. Fix it\n",
    "\n",
    "Usually, 1 is the problem. Make sure you write down exactly what the function is supposed to do. COMMENT\n",
    "\n",
    "Start by writing the comments! \"I am going to write code that does abcd\"\n",
    "\n",
    "For 2, write some commands that detect, things like printf help here. but assert is a g\n",
    "    printf can be helpful for printing out variables"
   ]
  },
  {
   "cell_type": "markdown",
   "metadata": {},
   "source": [
    "#include<assert.h>\n",
    "\n",
    "int main(int argc, char** argv){\n",
    "\n",
    "    assert(2+2 == 5); //If you run this, it will print the line number and say this assertion failed\n",
    "\n",
    "}"
   ]
  },
  {
   "cell_type": "markdown",
   "metadata": {},
   "source": [
    "int i;\n",
    "int sum = 0;\n",
    "\n",
    "for (i=0; i-=1000; i++){\n",
    "    sum = sum + i;\n",
    "}\n",
    "\n",
    "printf\n",
    "return 0;\n",
    "\n",
    "\\\\This is going to give a weird result, because of the -= 1000\n",
    "\\\\Why does it stop "
   ]
  },
  {
   "cell_type": "markdown",
   "metadata": {},
   "source": [
    "gdb tester\n",
    "(gdb) break main\n",
    "\n",
    "\n",
    "Some commands:\n",
    "\n",
    "break\n",
    "help\n",
    "quit\n",
    "\n",
    "list\n",
    "next\n",
    "step\n",
    "finish\n",
    "\n",
    "cont\n",
    "print\n",
    "display\n",
    "\n",
    "backtrace -> gives the traceback for recursion\n",
    "\n",
    "gdb lets you print whatever subset of the variables you want at every single line. It will show you "
   ]
  },
  {
   "cell_type": "markdown",
   "metadata": {},
   "source": [
    "Segmentation Faulting\n",
    "\n",
    "int a[1000];\n",
    "int i = -314\n",
    "\n",
    "printf(\"%d\\n\", a[i]);\n",
    "return 0;\n",
    "\n",
    "\n",
    "gdb will run this happily. but it is a nonsense. Be sensible about what you are doing"
   ]
  },
  {
   "cell_type": "markdown",
   "metadata": {},
   "source": [
    "valgrind -> he likes it better for memory manipulation problems\n",
    "\n",
    "time wc -> performance tuning and timing a command. There are also definitions of time. CPU time."
   ]
  }
 ],
 "metadata": {
  "kernelspec": {
   "display_name": "Python 3.8.12 ('base')",
   "language": "python",
   "name": "python3"
  },
  "language_info": {
   "codemirror_mode": {
    "name": "ipython",
    "version": 3
   },
   "file_extension": ".py",
   "mimetype": "text/x-python",
   "name": "python",
   "nbconvert_exporter": "python",
   "pygments_lexer": "ipython3",
   "version": "3.8.12"
  },
  "orig_nbformat": 4,
  "vscode": {
   "interpreter": {
    "hash": "3418417383af331fcbc8316060ae8874514fff1df7fef283aa38a0cc727c6ead"
   }
  }
 },
 "nbformat": 4,
 "nbformat_minor": 2
}
