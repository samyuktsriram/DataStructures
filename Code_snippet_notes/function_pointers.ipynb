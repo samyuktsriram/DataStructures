{
 "cells": [
  {
   "cell_type": "markdown",
   "metadata": {},
   "source": [
    "Anything can be a pointer in C. Even functions"
   ]
  },
  {
   "cell_type": "markdown",
   "metadata": {},
   "source": [
    "int x (int x, int y){blah blah}\n",
    "\n",
    "we can also do:\n",
    "\n",
    "int (*p) (int x, int y){blah blah}\n",
    "\n",
    "Why do this?\n",
    "\n",
    "\n",
    "int *x = 89\n",
    "\n",
    "void (*p) (int input)\n",
    "\n",
    "This is an object that you can throw around.\n",
    "\n",
    "\n",
    "1. rename a function. Call a function and have it BE 2 different things at different points. Polymorphism in OOP.\n",
    "2. Eg: when you don't care about input types.\n",
    "    Sorting algos! logic should be the same. eg:\n",
    "\n",
    "    void qsort (void * base, size_t n, size_t size, int (*compare_func)(void* a, void * b)) \\\\inside compare, you shouldn't be able to edit stuff, so you can define them as const\n",
    "\n",
    "3. You can have an array of functions. This is called a dispatch table.\n",
    "    int (*table[UCHAR_MAX+1])(int);\n",
    "    int i; c;\n",
    "    for (i=0; i<UM ; i++){\n",
    "        table[i] = putchar;\n",
    "    }\n",
    "\n",
    "    //Then later you can do table['a'] = blah;\n",
    "    //Now, depending on which index goes in, it will call a different function on it based on what we've defined"
   ]
  }
 ],
 "metadata": {
  "language_info": {
   "name": "python"
  },
  "orig_nbformat": 4
 },
 "nbformat": 4,
 "nbformat_minor": 2
}
