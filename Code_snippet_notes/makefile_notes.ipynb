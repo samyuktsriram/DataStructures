{
 "cells": [
  {
   "cell_type": "markdown",
   "metadata": {},
   "source": [
    "Makefile -> Rules based system, to tell your compiler what gcc commands to run\n",
    "\n",
    "You may need to deal with a bunch of files that need different compiling rules. \n",
    "Also, if you use LaTeX, you can have a makefile equivalent type thing that is also helpful\n",
    "\n",
    "Imagine you wrote microsoft office. You can use makefiles to selectively compile powerpoint, word, etc. They might be sharing code, so it's helpful to be able to selectively pull bits of code to compile into specific application.  "
   ]
  },
  {
   "cell_type": "markdown",
   "metadata": {},
   "source": [
    "An Example Makefile. This thing is dumb, spaces and empty lines matter. Copy one that works, this has notes that might not work in an actual makefile\n",
    "\n",
    "#is a comment\n",
    "\n",
    "CC=gcc #This says that the Code Compiler is gcc.\n",
    "CFLAGS=-g3-Wall #These are the options that are going to get passed to the CC.\n",
    "\n",
    "#This below is the dependency stuff. You can select what each of the following would do. Eg: make hello will do what comes after hello #here\n",
    "\n",
    "\n",
    "all: hello #this is a general one that does everything. We're starting with this.\n",
    "hello: hello.o hlib.o #This tells what files are needed for hello, you need hello.o and hlib.o - before colon is $@, dependencies are $^\n",
    "hello.o: hello.c hlib.h\n",
    "\n",
    "\n",
    "#after all this jazz, you do the following generalized command that pulls from the things you wrote above\n",
    "\n",
    "    $(CC) $(CFLAGS) $@ $^"
   ]
  },
  {
   "cell_type": "markdown",
   "metadata": {},
   "source": [
    "Look up linking and loading"
   ]
  }
 ],
 "metadata": {
  "language_info": {
   "name": "python"
  },
  "orig_nbformat": 4
 },
 "nbformat": 4,
 "nbformat_minor": 2
}
