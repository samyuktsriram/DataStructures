{
 "cells": [
  {
   "cell_type": "markdown",
   "metadata": {},
   "source": [
    "Things to do\n",
    "\n",
    "1. Look up why changing the order of loops in simple matrix multiplication will speed it up\n",
    "2. 1's Complement, 2's Complement, fixed and floating point numbers\n",
    "3. Perfect Hashing\n",
    "\n",
    "Send IEEE 754 Doom Engine video to prof.\n",
    "\n",
    "**Notes**\n",
    "\n",
    "1. https://stackoverflow.com/questions/7395556/why-does-the-order-of-loops-in-a-matrix-multiply-algorithm-affect-performance\n",
    "    - Computer stores matrices 1 row at a time. So certain loops will loop over the row rather than the other dimensions, meaning that data is already pulled into the CPU and ready to process.\n",
    "2. Google "
   ]
  },
  {
   "cell_type": "code",
   "execution_count": null,
   "metadata": {},
   "outputs": [],
   "source": [
    "#A Basic Data Structure -> List\n",
    "x = [1,2,3]"
   ]
  },
  {
   "cell_type": "markdown",
   "metadata": {},
   "source": [
    "For the above, there's some important things to think about.\n",
    "\n",
    "1. Addresses\n",
    "\n",
    "    This is the metadata of the data structure. Store it and write it down somewhere. *Perfect Hashing* is how this is stored. How big is it, when was it created.\n",
    "\n",
    "2. Encoding\n",
    "\n",
    "    How is the data in the structure stored? There must be an encoding / representation.\n",
    "        Look up **1's Complement and 2's Complement**, __fixed and floating point__.\n",
    "\n",
    "3. Change\n",
    "\n",
    "    1. Manipulation of the items in the list itself.\n",
    "    2. Manipulation of the properties of the list (Stuff like number of elements)"
   ]
  },
  {
   "cell_type": "markdown",
   "metadata": {},
   "source": [
    "<u>Bucket Metaphor</u>\n",
    "\n",
    "We need to add a bucket.\n",
    "\n",
    "1. Copy the whole list into a space with +1 length, and add another element. -> O(n^2)\n",
    "2. Doubling the length, and filling into the empty space as many times as you need. As you amortize the computation (average the computation over time), you get O(n). This is not space efficient though.\n",
    "    Python does this.\n",
    "3. Fragment it. Just find another space for the new elements and point towards it. \n",
    "    This sometimes isn't good because some libraries and operations assume that an array is continuously stored in memory.\n",
    "\n",
    "\n",
    "\\- Removing a bucket\n",
    "Python halves the space if it's below 1/3. "
   ]
  },
  {
   "cell_type": "markdown",
   "metadata": {},
   "source": [
    "<u>Limited Precision Instruments</u>\n",
    "\n",
    "We want numerical stability.\n",
    "Computers make mistakes when storing numbers. Let's see an example!"
   ]
  },
  {
   "cell_type": "code",
   "execution_count": 3,
   "metadata": {},
   "outputs": [
    {
     "name": "stdout",
     "output_type": "stream",
     "text": [
      "blah:0.0\n",
      "blah:0.0001\n",
      "blah:0.0002\n",
      "blah:0.00030000000000000003\n",
      "blah:0.0004\n",
      "blah:0.0005\n",
      "blah:0.0006000000000000001\n",
      "blah:0.0007000000000000001\n",
      "blah:0.0008000000000000001\n",
      "blah:0.0009000000000000002\n"
     ]
    }
   ],
   "source": [
    "#while False:\n",
    "x = 0.0\n",
    "while x < 0.001:\n",
    "    print(f'blah:{x}')\n",
    "    x += 0.0001"
   ]
  },
  {
   "cell_type": "markdown",
   "metadata": {},
   "source": [
    "Notes: 19/9/2022\n",
    "\n",
    "Computers do not do algebra, limited precision is a real real problem. Look at this below\n",
    "\n",
    "In C, everything is a numeric data type.\n",
    "\n",
    "Running gcc, there's a bunch of steps, compiling and execution. gcc -S blah.c gives you an assembly language representation.\n",
    "Every datapoint has a location in RAM. Here's the Assembly instructions for a C program, the line its doing is x = y+1\n",
    "\n",
    "    movl\t-8(%rbp), %ecx\n",
    "\taddl\t$1, %ecx\n",
    "\tmovl\t%ecx, -12(%rbp)\n",
    "\n",
    "syntax is function object subject. register is the smallest unit of working memory.\n",
    "\n",
    "Here we are moving an object (-8 is a higher memory location relative to (%rbp), %ecx is what we are assigning to a register). The steps are we are calling x from memory, adding 1 to it, moving the result into a new position. If you look at those commands you'll see that's what is happening"
   ]
  },
  {
   "cell_type": "code",
   "execution_count": 3,
   "metadata": {},
   "outputs": [],
   "source": [
    "#Look how bad this is lmao. \n",
    "a = 0.1 + 0.1 + 0.1\n",
    "\n",
    "if (a==0.3):\n",
    "    print('potato')"
   ]
  },
  {
   "cell_type": "markdown",
   "metadata": {},
   "source": [
    "Integer types in C - just google this\n",
    "\n",
    "It's safe to assume everything in C is just an integer.\n",
    "\n",
    "unspecified means the representation is not standard across all C codebases.\n",
    "Numeric overflows are a problem in floating point numbers (and other places). \n",
    "\n",
    "size_t is the size of the object. eg: uint32_t: unsigned integer with 32 bits.\n",
    "\n",
    "In C, x = 015 is a number in OCTAL (of all things what the fuck). so you might think you're assigning 15 in decimal but it's actually in octal. Hexadecimal 16 is x = 0x16. \n",
    "\n",
    "Binary math with limited widths means there are no carries. This can also give you a lot of problems."
   ]
  },
  {
   "cell_type": "markdown",
   "metadata": {},
   "source": [
    "Operators\n",
    "\n",
    "mod is %. Now uh. -17%3 is not clear whether it should be 1 or -2. The -ve signs and their treatment in different languages is a problem.\n",
    "\n",
    "In C:\n",
    "\n",
    "    int y = -3%2;\n",
    "    int x = -3%-2;\n",
    "\n",
    "The reason both these are -1 (wtf btw): They wanted y == x*(y/x) + y%x to always be true so.\n",
    "\n",
    "Bitwise operators are a thing. & | ^ ~ is and or xor not"
   ]
  },
  {
   "cell_type": "markdown",
   "metadata": {},
   "source": [
    "Array (contiguous storage) -> Random access\n",
    "Linked List (Not continuous) -> Helpful if you need to add and subtract"
   ]
  }
 ],
 "metadata": {
  "kernelspec": {
   "display_name": "Python 3.8.12 ('base')",
   "language": "python",
   "name": "python3"
  },
  "language_info": {
   "codemirror_mode": {
    "name": "ipython",
    "version": 3
   },
   "file_extension": ".py",
   "mimetype": "text/x-python",
   "name": "python",
   "nbconvert_exporter": "python",
   "pygments_lexer": "ipython3",
   "version": "3.8.12"
  },
  "orig_nbformat": 4,
  "vscode": {
   "interpreter": {
    "hash": "3418417383af331fcbc8316060ae8874514fff1df7fef283aa38a0cc727c6ead"
   }
  }
 },
 "nbformat": 4,
 "nbformat_minor": 2
}
