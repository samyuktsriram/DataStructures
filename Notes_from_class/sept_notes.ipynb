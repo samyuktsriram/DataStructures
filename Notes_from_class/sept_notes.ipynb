{
 "cells": [
  {
   "cell_type": "markdown",
   "metadata": {},
   "source": [
    "Things to do\n",
    "\n",
    "1. Look up why changing the order of loops in simple matrix multiplication will speed it up\n",
    "2. 1's Complement, 2's Complement, fixed and floating point numbers\n",
    "3. Perfect Hashing\n",
    "\n",
    "Send IEEE 754 Doom Engine video to prof.\n",
    "\n",
    "**Notes**\n",
    "\n",
    "1. https://stackoverflow.com/questions/7395556/why-does-the-order-of-loops-in-a-matrix-multiply-algorithm-affect-performance\n",
    "    - Computer stores matrices 1 row at a time. So certain loops will loop over the row rather than the other dimensions, meaning that data is already pulled into the CPU and ready to process.\n",
    "2. Google "
   ]
  },
  {
   "cell_type": "code",
   "execution_count": null,
   "metadata": {},
   "outputs": [],
   "source": [
    "#A Basic Data Structure -> List\n",
    "x = [1,2,3]"
   ]
  },
  {
   "cell_type": "markdown",
   "metadata": {},
   "source": [
    "For the above, there's some important things to think about.\n",
    "\n",
    "1. Addresses\n",
    "\n",
    "    This is the metadata of the data structure. Store it and write it down somewhere. *Perfect Hashing* is how this is stored. How big is it, when was it created.\n",
    "\n",
    "2. Encoding\n",
    "\n",
    "    How is the data in the structure stored? There must be an encoding / representation.\n",
    "        Look up **1's Complement and 2's Complement**, __fixed and floating point__.\n",
    "\n",
    "3. Change\n",
    "\n",
    "    1. Manipulation of the items in the list itself.\n",
    "    2. Manipulation of the properties of the list (Stuff like number of elements)"
   ]
  },
  {
   "cell_type": "markdown",
   "metadata": {},
   "source": [
    "<u>Bucket Metaphor</u>\n",
    "\n",
    "We need to add a bucket.\n",
    "\n",
    "1. Copy the whole list into a space with +1 length, and add another element. -> O(n^2)\n",
    "2. Doubling the length, and filling into the empty space as many times as you need. As you amortize the computation (average the computation over time), you get O(n). This is not space efficient though.\n",
    "    Python does this.\n",
    "3. Fragment it. Just find another space for the new elements and point towards it. \n",
    "    This sometimes isn't good because some libraries and operations assume that an array is continuously stored in memory.\n",
    "\n",
    "\n",
    "\\- Removing a bucket\n",
    "Python halves the space if it's below 1/3. "
   ]
  },
  {
   "cell_type": "markdown",
   "metadata": {},
   "source": [
    "<u>Limited Precision Instruments</u>\n",
    "\n",
    "We want numerical stability.\n",
    "Computers make mistakes when storing numbers. Let's see an example!"
   ]
  },
  {
   "cell_type": "code",
   "execution_count": 3,
   "metadata": {},
   "outputs": [
    {
     "name": "stdout",
     "output_type": "stream",
     "text": [
      "blah:0.0\n",
      "blah:0.0001\n",
      "blah:0.0002\n",
      "blah:0.00030000000000000003\n",
      "blah:0.0004\n",
      "blah:0.0005\n",
      "blah:0.0006000000000000001\n",
      "blah:0.0007000000000000001\n",
      "blah:0.0008000000000000001\n",
      "blah:0.0009000000000000002\n"
     ]
    }
   ],
   "source": [
    "#while False:\n",
    "x = 0.0\n",
    "while x < 0.001:\n",
    "    print(f'blah:{x}')\n",
    "    x += 0.0001"
   ]
  },
  {
   "cell_type": "markdown",
   "metadata": {},
   "source": [
    "Notes: 19/9/2022\n",
    "\n",
    "Computers do not do algebra, limited precision is a real real problem. Look at this below\n",
    "\n",
    "In C, everything is a numeric data type.\n",
    "\n",
    "Running gcc, there's a bunch of steps, compiling and execution. gcc -S blah.c gives you an assembly language representation.\n",
    "Every datapoint has a location in RAM. Here's the Assembly instructions for a C program, the line its doing is x = y+1\n",
    "\n",
    "    movl\t-8(%rbp), %ecx\n",
    "\taddl\t$1, %ecx\n",
    "\tmovl\t%ecx, -12(%rbp)\n",
    "\n",
    "syntax is function object subject. register is the smallest unit of working memory.\n",
    "\n",
    "Here we are moving an object (-8 is a higher memory location relative to (%rbp), %ecx is what we are assigning to a register). The steps are we are calling x from memory, adding 1 to it, moving the result into a new position. If you look at those commands you'll see that's what is happening"
   ]
  },
  {
   "cell_type": "code",
   "execution_count": 3,
   "metadata": {},
   "outputs": [],
   "source": [
    "#Look how bad this is lmao. \n",
    "a = 0.1 + 0.1 + 0.1\n",
    "\n",
    "if (a==0.3):\n",
    "    print('potato')"
   ]
  },
  {
   "cell_type": "markdown",
   "metadata": {},
   "source": [
    "**Integer types in C - just google this**\n",
    "\n",
    "It's safe to assume everything in C is just an integer.\n",
    "\n",
    "unspecified means the representation is not standard across all C codebases.\n",
    "Numeric overflows are a problem in floating point numbers (and other places). \n",
    "\n",
    "size_t is the size of the object. eg: uint32_t: unsigned integer with 32 bits.\n",
    "\n",
    "In C, x = 015 is a number in OCTAL (of all things why this). so you might think you're assigning 15 in decimal but it's actually in octal. Hexadecimal 16 is x = 0x16. \n",
    "\n",
    "Binary math with limited widths means there are no carries. This can also give you a lot of problems."
   ]
  },
  {
   "cell_type": "markdown",
   "metadata": {},
   "source": [
    "**Operators**\n",
    "\n",
    "mod is %. Now uh. -17%3 is not clear whether it should be 1 or -2. The -ve signs and their treatment in different languages is a problem.\n",
    "\n",
    "In C:\n",
    "\n",
    "    int y = -3%2;\n",
    "    int x = -3%-2;\n",
    "\n",
    "The reason both these are -1: They wanted y == x*(y/x) + y%x to always be true so.\n",
    "\n",
    "Bitwise operators are a thing. & | ^ ~ is and or xor not"
   ]
  },
  {
   "cell_type": "markdown",
   "metadata": {},
   "source": [
    "Array (contiguous storage) -> Random access\n",
    "\n",
    "Linked List (Not continuous) -> Helpful if you need to add and subtract elements"
   ]
  },
  {
   "cell_type": "code",
   "execution_count": 12,
   "metadata": {},
   "outputs": [
    {
     "name": "stdout",
     "output_type": "stream",
     "text": [
      "Overwriting cstuff/hello.c\n"
     ]
    }
   ],
   "source": [
    "%%file cstuff/hello.c\n",
    "\n",
    "#include <stdio.h>\n",
    "\n",
    "int main(int argc, char **argv) {\n",
    "    printf(\"Hello, %s!\\n\",*(argv+1));\n",
    "    return 0;\n",
    "}"
   ]
  },
  {
   "cell_type": "code",
   "execution_count": 13,
   "metadata": {},
   "outputs": [
    {
     "name": "stdout",
     "output_type": "stream",
     "text": [
      "Hello, Samyukt!\n"
     ]
    }
   ],
   "source": [
    "#Compiling and executing C\n",
    "!gcc cstuff/hello.c -o cstuff/hello\n",
    "! ./cstuff/hello Samyukt"
   ]
  },
  {
   "cell_type": "markdown",
   "metadata": {},
   "source": [
    "*Notes: 22/09/2022*\n",
    "\n",
    "Data types. We know everything is 1s and 0s, but to do meaningful things we need to be able to split things up into more complex data types. \n",
    "\n",
    "Pointers\n",
    "\n",
    "C does this. * and &\n",
    "\n",
    "    int x = 3\n",
    "\n",
    "&x will give you the memory location of x.\n",
    "\n",
    "\\* &x will give you what is stored in that memory location, in this case you will get what is stored in x. \n",
    "\n",
    "\n",
    "    int x;\n",
    "    int *y;\n",
    "    y = &x;\n",
    "\n",
    "y has to be an address, because you need an address for * to give you an integer, which is what you specified by saying int in the second line. Then the third line is simply assigning an address to y. \n",
    "So if you do the second line, it assigns a house at a specific location, and says that the contents of the house is the address of an integer. \n",
    "the third line assigns that location to &x."
   ]
  },
  {
   "cell_type": "code",
   "execution_count": 17,
   "metadata": {
    "vscode": {
     "languageId": "c"
    }
   },
   "outputs": [
    {
     "name": "stdout",
     "output_type": "stream",
     "text": [
      "Writing cstuff/pointer_exercise.c\n"
     ]
    }
   ],
   "source": [
    "%%file cstuff/pointer_exercise.c\n",
    "\n",
    "#include<stdio.h>\n",
    "\n",
    "int main(){\n",
    "    int x = 3;\n",
    "    int *y;\n",
    "    y = &x;\n",
    "    *y = *y + 1;\n",
    "    printf(\"%d\",x);\n",
    "    return 0;\n",
    "}"
   ]
  },
  {
   "cell_type": "code",
   "execution_count": 18,
   "metadata": {},
   "outputs": [
    {
     "name": "stdout",
     "output_type": "stream",
     "text": [
      "4"
     ]
    }
   ],
   "source": [
    "!gcc cstuff/pointer_exercise.c -o cstuff/pointer_exercise\n",
    "! ./cstuff/pointer_exercise"
   ]
  },
  {
   "cell_type": "markdown",
   "metadata": {},
   "source": [
    "malloc lets you allocate memory, returns an address. *a in the below program will access the next bits to make it an integer (because we know a has to have a the address of an integer). \n",
    "\n",
    "now, if you do *(a+1), C will then read the next **integer**. Because we know *a has to be the address of an integer, *(a+1) will access bytes 4-8, NOT bytes 2-5, because it knows it is reading an integer in the end. If we wrote long *a;, it would have done a different skip.\n",
    "\n",
    "We have possible addresses now, based on how big our malloc was. *(a+0) ... *(a+999). You can think of this as an array of pointers, so you can also write it as a[0] .. a[999]. a is an array."
   ]
  },
  {
   "cell_type": "code",
   "execution_count": null,
   "metadata": {
    "vscode": {
     "languageId": "c"
    }
   },
   "outputs": [],
   "source": [
    "#include <stdio.h>\n",
    "#include <stdlib.h>\n",
    "\n",
    "int main(){\n",
    "    int *a;\n",
    "    a = malloc(1000*sizeof(int));\n",
    "    a[0] = 903;\n",
    "    a[99] = 885;\n",
    "    free(a);\n",
    "    return 0;\n",
    "}"
   ]
  },
  {
   "cell_type": "code",
   "execution_count": null,
   "metadata": {
    "vscode": {
     "languageId": "c"
    }
   },
   "outputs": [],
   "source": [
    "%%file cstuff/linked_list.c\n",
    "\n",
    "#include<stdio.h>\n",
    "#include<stdlib.h>\n",
    "\n",
    "struct nodeType {\n",
    "    int value;\n",
    "    struct nodeType * next;\n",
    "};\n",
    "\n",
    "typedef struct nodeType Node;\n",
    "\n",
    "int main(int argc, char **argv) {\n",
    "    int i, val;\n",
    "    Node * head = NULL;\n",
    "    Node * temp = NULL;\n",
    "\n",
    "    i = 0;\n",
    "    scanf(\"%d\", &val);\n",
    "    while(val>0){\n",
    "        temp = malloc(sizeof(Node));\n",
    "        temp->value = val;\n",
    "        temp->next = NULL;\n",
    "\n",
    "        // if this is the first time\n",
    "        // or else\n",
    "\n",
    "        i = i+1;\n",
    "        scanf(\"%d\", &val);\n",
    "    }\n",
    "    return 0;\n",
    "}\n",
    "\n"
   ]
  },
  {
   "cell_type": "markdown",
   "metadata": {},
   "source": [
    "You missed a class on Monday, notes / code from the github.\n",
    "\n",
    "Notes on 29/9/2022\n",
    "\n",
    "Houses as linked lists. Houses are memory locations, inside there are 2 people, 1 will tell you a value and the other will tell you where to go next.\n",
    "\n",
    "in C, -> goes to the structure at an address and does things. It's kinda like the class.value thing in python\n",
    "\n",
    "You need the address for the first house, and when you reach the last house, you need an end of line.\n",
    "\n",
    "First case is special. You get your first piece of information. You need to find a house and put the 2 people.\n",
    "\n",
    "    (initializing the list)\n",
    "    head = NULL (you need to save the address of the first element, not sure if this is happening now)\n",
    "    temp = allocate a house with 2 people\n",
    "    temp->val = Debayan's secret code\n",
    "    temp->next = NULL (because we dont know if there's need for another house)\n",
    "\n",
    "    While DG's val is +ve (while there are more things to add to the list, ie, while the vals are +ve)\n",
    "\n",
    "        temp -> next = malloc - get a new house with 2 people (this is an address)\n",
    "        temp = temp -> next  \n",
    "        temp -> val = Debayan's 2nd secret code\n",
    "        temp -> next = NULL\n",
    "\n",
    "c==NULL, if c is null then you can write it as c. If c is null then you want to stop bc that's the end of the list\n",
    "\n",
    "loop to print all elements in the list\n",
    "\n",
    "    struct node * c; (this is an address for the current)\n",
    "\n",
    "    for(c=head; c!=NULL; c = c->next){\n",
    "        printf(\"%d\\n\", c->val);\n",
    "    }\n",
    "\n",
    "\n",
    "Tortoise and Rabbit method\n",
    "This below will print the first 50 elements in 1 pass, without finding length.\n",
    "\n",
    "You can also check if your linked list is looped with this. If the tortoise and rabbit are ever in the same \n",
    "    struct node * tortoise;\n",
    "    struct node * rabbit;\n",
    "\n",
    "    (Tortoise goes forward once each time, but the rabbit moves up by 2 each time)\n",
    "    t = r = head;\n",
    "    while(r!=NULL){\n",
    "        print(t->val);\n",
    "        t = t->next;\n",
    "        r = r->next;\n",
    "        if (r!=NULL) r = r->next; (Make sure r doesnt skip the NULL!)\n",
    "    }\n"
   ]
  },
  {
   "cell_type": "markdown",
   "metadata": {},
   "source": [
    "We can redefine nodes, maintaining a head and tail\n",
    "\n",
    "struct node {\n",
    "    int val;\n",
    "    struct node * next;\n",
    "    struct node * prev;\n",
    "}\n",
    "\n",
    "Deleting in a doubly linked list (circular)\n",
    "\n",
    "ABC, delete B. If you are at B:\n",
    "\n",
    "A should point to C, so if you are at B: B->prev->next = B->next\n",
    "C should point back to A, so B-> next-> prev = B-> prev"
   ]
  },
  {
   "cell_type": "markdown",
   "metadata": {},
   "source": [
    "Reversing Linked Lists - standard interview question\n",
    "\n",
    "Reverse every kth element, or reverese every k chunks.\n",
    "\n",
    "For a simply creating a reverse copy, loop through the existing link and add each element with prev pointers to the new list"
   ]
  }
 ],
 "metadata": {
  "kernelspec": {
   "display_name": "Python 3.8.12 ('base')",
   "language": "python",
   "name": "python3"
  },
  "language_info": {
   "codemirror_mode": {
    "name": "ipython",
    "version": 3
   },
   "file_extension": ".py",
   "mimetype": "text/x-python",
   "name": "python",
   "nbconvert_exporter": "python",
   "pygments_lexer": "ipython3",
   "version": "3.8.12"
  },
  "orig_nbformat": 4,
  "vscode": {
   "interpreter": {
    "hash": "3418417383af331fcbc8316060ae8874514fff1df7fef283aa38a0cc727c6ead"
   }
  }
 },
 "nbformat": 4,
 "nbformat_minor": 2
}
