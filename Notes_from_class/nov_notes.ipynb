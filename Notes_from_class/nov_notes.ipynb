{
 "cells": [
  {
   "cell_type": "markdown",
   "metadata": {},
   "source": [
    "Some notes from 14/11/2022. Stuff might come on written exam.\n",
    "\n",
    "Q: Here's a situation, how will you pursue a solution\n",
    "Q: We are trying to use a particular Data Structure, but I've modified it in some way.\n",
    "\n",
    "For coding test -> if you can interpret to find something that is equally efficient, you get full credit."
   ]
  },
  {
   "cell_type": "markdown",
   "metadata": {},
   "source": [
    "Car garage, cars come and go you have no control. 1 entrance and exit. First space is numbered 0, next is 1, onwards 2,3,4...\n",
    "\n",
    "you have n spaces.\n",
    "\n",
    "You have to fill empty slots, keep track of earliest available slot.\n",
    "Keep track of where the cars are. If someone comes in and has forgotten where they have parked. You have to immediatley give them where."
   ]
  },
  {
   "cell_type": "markdown",
   "metadata": {},
   "source": [
    "Now, before you select a data structure, describe the ideal functionality. Try to find the Invariant.\n",
    "\n",
    "\"If you did it by hand, what would you have to do.\""
   ]
  },
  {
   "cell_type": "markdown",
   "metadata": {},
   "source": [
    "Solution to first part above is a min_heap. You are ALWAYS extracting the minimum element. The INVARIANT is ...\n",
    "\n"
   ]
  },
  {
   "cell_type": "markdown",
   "metadata": {},
   "source": [
    "Modification of BST:\n",
    "\n",
    "struct with 4 values and 5 pointers\n",
    "\n",
    "A| 10 B| 27 C| 63 D| 91 E|\n",
    "\n",
    "A -> numbers < 10\n",
    "B -> 10 < numbers < 27\n",
    "C -> 27 < numbers < 63\n",
    "D -> 63 < numbers < 91\n",
    "E -> 91 < numbers\n",
    "\n",
    "This is an extension to BSTs, instead of 2 children we have 4. \n",
    "\n",
    "Q: function to print inorder.\n",
    "\n",
    "BTW: this is common database structure (used over hash tables despite faster searching in hash tables). Because you can do comparison operators a lot easier, especially in ranges!"
   ]
  }
 ],
 "metadata": {
  "kernelspec": {
   "display_name": "Python 3.8.12 ('base')",
   "language": "python",
   "name": "python3"
  },
  "language_info": {
   "name": "python",
   "version": "3.8.12"
  },
  "orig_nbformat": 4,
  "vscode": {
   "interpreter": {
    "hash": "3418417383af331fcbc8316060ae8874514fff1df7fef283aa38a0cc727c6ead"
   }
  }
 },
 "nbformat": 4,
 "nbformat_minor": 2
}
