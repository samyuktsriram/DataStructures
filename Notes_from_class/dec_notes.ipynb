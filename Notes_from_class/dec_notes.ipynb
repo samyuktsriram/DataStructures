{
 "cells": [
  {
   "cell_type": "markdown",
   "metadata": {},
   "source": [
    "Notes from 1/12/2022 -> basic stack and queue things, explaining the code\n",
    "\n",
    "Uses of stacks:\n",
    "\n",
    "Look at a basic operation: (5+4) * (9 - 2^3)\n",
    "We've seen that this can be represented as a tree, where an operator has 2 children (operands). -> Left Root Right\n",
    "Put this is as a tree, and then read it as postfix\n",
    "PostFix -> Left Right Root.\n",
    "5 4 + 9 2 3 ^ - *\n",
    "\n",
    "\n",
    "This is how computers to do math. Take 5 + 4\n",
    "In the stack it's 54+\n",
    "pop +, you'll know it needs 2 inputs, so pop those also\n",
    "evaluate +(5,4), put the result back in the stack\n",
    "\n",
    "for a longer expression, search from the right till you find an operator with 2 numbers (so you can evaluate)\n",
    "\n",
    "so we get\n",
    "5 4 + 9 8 - *\n",
    "5 4 + 1 *\n",
    "9 1 *\n",
    "9\n",
    "\n",
    "\n",
    "In recursive functions, how does this work?\n",
    "On a stack again, and other recursive calls called are added on top, and so on.\n",
    "When you call too many, the stack overflows so that's why they call it that.\n"
   ]
  }
 ],
 "metadata": {
  "kernelspec": {
   "display_name": "Python 3.8.12 ('base')",
   "language": "python",
   "name": "python3"
  },
  "language_info": {
   "name": "python",
   "version": "3.8.12"
  },
  "orig_nbformat": 4,
  "vscode": {
   "interpreter": {
    "hash": "3418417383af331fcbc8316060ae8874514fff1df7fef283aa38a0cc727c6ead"
   }
  }
 },
 "nbformat": 4,
 "nbformat_minor": 2
}
